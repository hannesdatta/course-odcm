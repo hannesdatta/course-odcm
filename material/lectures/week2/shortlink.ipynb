{
  "nbformat": 4,
  "nbformat_minor": 0,
  "metadata": {
    "colab": {
      "name": "shortlink.ipynb",
      "provenance": [],
      "collapsed_sections": []
    },
    "kernelspec": {
      "name": "python3",
      "display_name": "Python 3"
    },
    "language_info": {
      "name": "python"
    }
  },
  "cells": [
    {
      "cell_type": "markdown",
      "metadata": {
        "id": "wxk-EuKf9KAm"
      },
      "source": [
        "# Using an API for creating short links\n",
        "\n",
        "In this demonstration, I develop an example raised in class. We have browsed [a public listing of APIs](https://github.com/public-apis/public-apis), and discovered a few APIs to convert long URLs into \"short links\".\n",
        "\n",
        "For example, the paper \"Fields of Gold\" is available at https://doi.org/10.1177%2F00222429221100750, but I have also created a short link via Tilburg's tiu.nu --> https://tiu.nu/scraping.\n",
        "\n",
        "## Let's get started"
      ]
    },
    {
      "cell_type": "markdown",
      "metadata": {
        "id": "5f3MPCzz9i-n"
      },
      "source": [
        "For this demo, we use the short link service [1pt](https://github.com/1pt-co/api/). As you may have seen on https://github.com/public-apis/public-apis, this API does not require authentication (logging in), and is therefore easy to use for teaching.\n",
        "\n",
        "Let's first visit the site of 1pt to figure out how to use their API.\n",
        "\n",
        "An API call consists of the domain (api.1pt.co), an endpoint (here, `addURL`), and parameters (here, the URL to shorten, which should be provided by the `long` variable).\n",
        "\n",
        "We can stitch together these parts like this:"
      ]
    },
    {
      "cell_type": "code",
      "metadata": {
        "id": "MLWZBQbS96Hj"
      },
      "source": [
        "import requests\n",
        "\n",
        "url = 'https://tilburguniversity.edu'\n",
        "\n",
        "call = requests.get('https://api.1pt.co/addURL?long=' + url)\n"
      ],
      "execution_count": 15,
      "outputs": []
    },
    {
      "cell_type": "markdown",
      "metadata": {
        "id": "8lfsjGvQ9LI0"
      },
      "source": [
        "So, it probably has worked! But... which URL was created? Check the content of the newly created `call` variable."
      ]
    },
    {
      "cell_type": "code",
      "metadata": {
        "colab": {
          "base_uri": "https://localhost:8080/",
          "height": 36
        },
        "id": "b8pAHArM9DP3",
        "outputId": "ed55de3d-0aaa-4408-ee45-f685c3487de3"
      },
      "source": [
        "call.text"
      ],
      "execution_count": 16,
      "outputs": [
        {
          "output_type": "execute_result",
          "data": {
            "application/vnd.google.colaboratory.intrinsic+json": {
              "type": "string"
            },
            "text/plain": [
              "'{\"status\": 201, \"message\": \"Added!\", \"short\": \"kndvq\", \"long\": \"https://tilburguniversity.edu\"}'"
            ]
          },
          "metadata": {},
          "execution_count": 16
        }
      ]
    },
    {
      "cell_type": "markdown",
      "metadata": {
        "id": "FLntgDl6_MhB"
      },
      "source": [
        "We can extract parts of this using the `.json`() function.\n"
      ]
    },
    {
      "cell_type": "code",
      "metadata": {
        "colab": {
          "base_uri": "https://localhost:8080/",
          "height": 36
        },
        "id": "JC6D6NnU_O7f",
        "outputId": "8c44e2c1-9786-4cca-b324-2bd9893f049b"
      },
      "source": [
        "call.json()['short']"
      ],
      "execution_count": 11,
      "outputs": [
        {
          "output_type": "execute_result",
          "data": {
            "application/vnd.google.colaboratory.intrinsic+json": {
              "type": "string"
            },
            "text/plain": [
              "'ixssq'"
            ]
          },
          "metadata": {},
          "execution_count": 11
        }
      ]
    },
    {
      "cell_type": "markdown",
      "metadata": {
        "id": "xqwxuQR2_ZVn"
      },
      "source": [
        "...to finally build the URL to pass on as a \"short URL\""
      ]
    },
    {
      "cell_type": "code",
      "metadata": {
        "id": "5hcRftYA_XN8"
      },
      "source": [
        "new_url = '1pt.co/' + call.json()['short']"
      ],
      "execution_count": 12,
      "outputs": []
    },
    {
      "cell_type": "code",
      "metadata": {
        "colab": {
          "base_uri": "https://localhost:8080/",
          "height": 36
        },
        "id": "RQKfcnIP_mYX",
        "outputId": "519a8f9b-87d6-4660-c066-e5972409daf2"
      },
      "source": [
        "new_url"
      ],
      "execution_count": 13,
      "outputs": [
        {
          "output_type": "execute_result",
          "data": {
            "application/vnd.google.colaboratory.intrinsic+json": {
              "type": "string"
            },
            "text/plain": [
              "'1pt.co/ixssq'"
            ]
          },
          "metadata": {},
          "execution_count": 13
        }
      ]
    },
    {
      "cell_type": "markdown",
      "metadata": {
        "id": "UeLlg48M_yJf"
      },
      "source": [
        "Try opening this url in your browser - does it work!?"
      ]
    },
    {
      "cell_type": "markdown",
      "metadata": {
        "id": "AAwZjRDYAdf5"
      },
      "source": [
        "## Extending it to multiple links\n",
        "\n",
        "Let's now try to create short links for a whole series of URLs."
      ]
    },
    {
      "cell_type": "code",
      "metadata": {
        "id": "4HY4tOVOAioO"
      },
      "source": [
        "import time\n",
        "\n",
        "urls = ['https://tilburguniversity.edu', 'https://odcm.hannesdatta.com', 'https://github.com/hannesdatta']\n",
        "\n",
        "short_urls = []\n",
        "\n",
        "for url in urls:\n",
        "  call = requests.get('https://api.1pt.co/addURL?long=' + url)\n",
        "  short_urls.append({'long': url,\n",
        "                     'short': 'https://1pt.co/' + call.json()['short']})\n",
        "  \n",
        "  # we have used a dictionary (with named elements) to link actual (long) URLs to the short ones.\n",
        "  \n",
        "  time.sleep(2) # let's wait a few seconds so that we don't bombard the server with too many requests\n"
      ],
      "execution_count": 22,
      "outputs": []
    },
    {
      "cell_type": "markdown",
      "metadata": {
        "id": "yA7VsDE5BAqG"
      },
      "source": [
        "We can now see the results...:"
      ]
    },
    {
      "cell_type": "code",
      "metadata": {
        "colab": {
          "base_uri": "https://localhost:8080/"
        },
        "id": "WjSj_XmEBCIh",
        "outputId": "2b437ad6-20cd-4dae-84c5-cd178d08e76b"
      },
      "source": [
        "short_urls"
      ],
      "execution_count": 23,
      "outputs": [
        {
          "output_type": "execute_result",
          "data": {
            "text/plain": [
              "[{'long': 'https://tilburguniversity.edu', 'short': 'https://1pt.co/tcuxf'},\n",
              " {'long': 'https://odcm.hannesdatta.com', 'short': 'https://1pt.co/nvalq'},\n",
              " {'long': 'https://github.com/hannesdatta', 'short': 'https://1pt.co/kduac'}]"
            ]
          },
          "metadata": {},
          "execution_count": 23
        }
      ]
    }
  ]
}
