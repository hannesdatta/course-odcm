{
 "cells": [
  {
   "cell_type": "markdown",
   "metadata": {},
   "source": [
    "# Looping through pages at books.toscrape.com"
   ]
  },
  {
   "cell_type": "code",
   "execution_count": null,
   "metadata": {},
   "outputs": [],
   "source": [
    "import time\n",
    "from bs4 import BeautifulSoup\n",
    "import requests\n",
    "\n",
    "loop = True\n",
    "next_url = ''\n",
    "\n",
    "\n",
    "all_books = []\n",
    "while loop == True:\n",
    "    url = 'https://books.toscrape.com/catalogue/category/books_1/' + next_url\n",
    "    page = requests.get(url)\n",
    "    print('Currently scraping ' + url)\n",
    "    soup = BeautifulSoup(page.text)\n",
    "    \n",
    "    # You can now start capturing data - e.g., names of books\n",
    "    found_books = soup.find_all('h3')\n",
    "    for book in found_books:\n",
    "        book_title = book.find('a')['title']\n",
    "        all_books.append(book_title)\n",
    "    \n",
    "    # Explore whether there are MORE pages to scrape (i.e., identify presence of next page button)\n",
    "    try:\n",
    "        nextpage = soup.find(\"li\", class_=\"next\")\n",
    "        next_url = nextpage.find('a')['href']\n",
    "    except:\n",
    "        loop = False\n",
    "    \n",
    "    # Wait one second to not exceed the server load\n",
    "    time.sleep(1)"
   ]
  },
  {
   "cell_type": "code",
   "execution_count": null,
   "metadata": {},
   "outputs": [],
   "source": [
    "# View names of books that have been captured\n",
    "all_books"
   ]
  }
 ],
 "metadata": {
  "kernelspec": {
   "display_name": "Python 3",
   "language": "python",
   "name": "python3"
  },
  "language_info": {
   "codemirror_mode": {
    "name": "ipython",
    "version": 3
   },
   "file_extension": ".py",
   "mimetype": "text/x-python",
   "name": "python",
   "nbconvert_exporter": "python",
   "pygments_lexer": "ipython3",
   "version": "3.8.3"
  }
 },
 "nbformat": 4,
 "nbformat_minor": 4
}
