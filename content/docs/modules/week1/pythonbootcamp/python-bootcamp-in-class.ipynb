{
 "cells": [
  {
   "cell_type": "markdown",
   "metadata": {
    "id": "NV1ly_rXMmoj"
   },
   "source": [
    "# Python Bootcamp (in-class)\n",
    "\n",
    "*28 August 2024*\n",
    "\n",
    "## Learning Objectives\n",
    "\n",
    "Students will be able to:\n",
    "* Locally launch Jupyter Notebook and Visual Studio Code\n",
    "* Know when it's helpful to use Google Colab in the cloud\n",
    "* Understand basic programming concepts and their applications to collecting web data\n",
    "\n",
    "<div class=\"alert alert-block alert-info\"><b>Support Needed?</b>\n",
    "    For technical issues outside of scheduled classes, please check the <a href=\"https://odcm.hannesdatta.com/docs/course/support\" target=\"_blank\">support section</a> on the course website.\n",
    "</div>\n",
    "\n",
    "------"
   ]
  },
  {
   "cell_type": "markdown",
   "metadata": {
    "id": "_OsG7NU1Mmol"
   },
   "source": [
    "## 1. Welcome to Python!\n",
    "\n",
    "Not installed yet? Follow the [installation instructions here!](https://tilburgsciencehub.com/get/python).\n"
   ]
  },
  {
   "cell_type": "markdown",
   "metadata": {
    "id": "7dcxOfdHMmol"
   },
   "source": [
    "### 1.1 Why we use Python...\n",
    "1. Multi-purpose (web server, web scraping, automating, machine learning)\n",
    "2. High-level, relatively easy to learn\n",
    "3. Great documentation\n",
    "4. Open source / free\n",
    "5. Widely used in business/data science\n",
    "6. Platform-independent"
   ]
  },
  {
   "cell_type": "markdown",
   "metadata": {
    "id": "gjRN88wVMmol"
   },
   "source": [
    "### 1.2 Differences between Python, Anaconda, Jupyter Notebook, VS Code and Google Colab\n",
    "\n",
    "- There are many Python versions floating around on the web...\n",
    "    - Python vs. \"Notebooks\" (e.g., running code)\n",
    "    - (Self-)installed Python distribution vs. Anaconda (e.g., getting it \"right\")\n",
    "    - Local vs. cloud setups (e.g., installing packages vs. flexibility to run quickly)\n",
    "    - Code editors (e.g., VS Code, vs. Jupyter Notebook, Juypyter Lab, Spyder, etc.)\n",
    "\n",
    "__&rarr; For local use, pick Jupyter Notebook (beginners) or VS Code (advanced; both via Anaconda). For cloud use, pick Google Colab.__\n",
    "\n",
    "-------------"
   ]
  },
  {
   "cell_type": "markdown",
   "metadata": {
    "id": "h-1IIPypMmol"
   },
   "source": [
    "## 2. Launching Python and getting to know the interface"
   ]
  },
  {
   "cell_type": "markdown",
   "metadata": {
    "id": "5kZBvaLjMmom"
   },
   "source": [
    "### 2.1 Launching Jupyter Notebook locally\n",
    "\n",
    "- Anaconda Navigator\n",
    "- Command prompt/terminal (Mac users: once Anaconda is installed, your terminal *is* in Anaconda mode; Windows users: start Anaconda prompt explicitly)\n",
    "- Why Jupyter Notebook runs in your browser (and *also* in your terminal)\n",
    "- Finding and opening `.ipynb` files\n",
    "- Closing Jupyter Notebook\n",
    "\n",
    "<div class=\"alert alert-block alert-info\"><b>Tip:</b>\n",
    "The terms command prompt (Windows) and Terminal (Mac, Linux) are used interchangeably.\n",
    "</div>\n"
   ]
  },
  {
   "cell_type": "markdown",
   "metadata": {
    "id": "aTmG2fogMmom"
   },
   "source": [
    "__Exercise 2.1__\n",
    "\n",
    "Download this notebook from the course website as a `.ipynb` file, save it on your computer, launch Jupyter Notebook on your computer, and open the file.\n"
   ]
  },
  {
   "cell_type": "markdown",
   "metadata": {
    "id": "aTmG2fogMmom"
   },
   "source": [
    "__Exercise 2.1__\n",
    "\n",
    "Download this notebook from the course website as a `.ipynb` file, save it on your computer, launch Jupyter Notebook on your computer, and open the file.\n"
   ]
  },
  {
   "cell_type": "markdown",
   "metadata": {
    "id": "5kZBvaLjMmom"
   },
   "source": [
    "<div class=\"alert alert-block alert-info\"><b>Tip:</b>\n",
    "<b>Visual Study Code is the future of editing notebooks</b>\n",
    "\n",
    "- **All-in-One Tool**: VS Code is a super handy, lightweight editor where you can write, debug, and run your code all in one spot—perfect for Jupyter Notebooks!\n",
    "- **Works Everywhere**: Whether you're on Windows, Mac, or Linux, VS Code works smoothly, making it great for everyone.\n",
    "- **Easy to Customize**: Add extensions to make VS Code work just the way you want, boosting your productivity.\n",
    "- **How to Start?**: Download VS Code [here](https://code.visualstudio.com/), open it from your apps, and use the file explorer to open or create `.ipynb` notebooks.\n",
    "\n",
    "</div>\n",
    "\n",
    "\n",
    "\n",
    "\n"
   ]
  },
  {
   "cell_type": "markdown",
   "metadata": {
    "id": "gSedrTQ7Mmom"
   },
   "source": [
    "### 2.2 Getting to know the Jupyter Notebook interface\n",
    "- Code vs. markdown cells\n",
    "- Running cells\n",
    "- [Markdown formatting](https://www.markdownguide.org/cheat-sheet/)\n"
   ]
  },
  {
   "cell_type": "markdown",
   "metadata": {
    "id": "wAOaT36EMmom"
   },
   "source": [
    "__Exercise 2.2__\n",
    "\n",
    "- Create a new Jupyter Notebook and create some content.\n",
    "    - First, add a markdown cell, in which you format \"Exercises\" as a first-order title using markdown (using `#`), followed by your name and email address as regular text.\n",
    "    - Second, add a code cell, in which you type `message = \"Hello world\"`.\n",
    "    - Third, add another code cell, in which you type `print(message)`.\n",
    "- Then, run all cells.\n",
    "- Save the notebook as `my_exercise.ipynb`."
   ]
  },
  {
   "cell_type": "markdown",
   "metadata": {
    "id": "75FlqqwrMmom"
   },
   "source": [
    "### 2.3 Launching Google Colab"
   ]
  },
  {
   "cell_type": "markdown",
   "metadata": {
    "id": "5T0pkpszMmom"
   },
   "source": [
    "- Discuss benefits and drawbacks of cloud-based Jupyter Notebooks (e.g., use of `selenium` and `Chrome`)\n",
    "- [Launching Google Colab](https://colab.research.google.com)\n",
    "- Connecting Google Colab to your Google Drive; sharing and collaborating on code\n",
    "\n",
    "__Exercise 2.3__\n",
    "- Import `my_exercise.ipynb` in Google Colab, run it, and create a sharing link. Invite the student next to you."
   ]
  },
  {
   "cell_type": "markdown",
   "metadata": {
    "id": "92HmuXIaMmom"
   },
   "source": [
    "### 2.4 Launching a Python editor (e.g., Visual Studio Code)\n",
    "- Source code (vs. code cells)\n",
    "- Comments (vs. markdown cells)\n",
    "- File extensions (`.ipynb` vs. `.py`)\n",
    "- Alternative editors (e.g., pyCharm, Spyder, ...)\n",
    "- Running source code + environments\n",
    "- Launching `.py` files \"in production\" from the terminal: `python your_sourcecode.py`"
   ]
  },
  {
   "cell_type": "markdown",
   "metadata": {
    "id": "dBHmwWNaMmom"
   },
   "source": [
    "__Exercise 2.4__\n",
    "\n",
    "- Create the following `my_code.py` file, with the following content:\n",
    "    \n",
    "    ```\n",
    "    message = \"Hello world\"\n",
    "    print(message)\n",
    "    ```\n",
    "\n",
    "- Run the file from the terminal by typing `python my_code.py`."
   ]
  },
  {
   "cell_type": "markdown",
   "metadata": {
    "id": "b1eH863iMmon"
   },
   "source": [
    "### 2.5 Installing packages and using help on the web\n",
    "\n",
    "- Installing packages __via the terminal__: `pip install <packagename>`\n",
    "- Importing packages into Python __via Python__: `import <packagename>`\n",
    "\n",
    "__IMPORTANT:__ \n",
    "- `pip` commands run in the terminal - not IN Python.\n",
    "- in Jupyter Notebook, you can use the `!pip` command to install packages."
   ]
  },
  {
   "cell_type": "markdown",
   "metadata": {
    "id": "hnPyne9YMmon"
   },
   "source": [
    "__Exercise 2.5__\n",
    "\n",
    "Pandas is a really popular package for working with data in Python. Can you quickly search the web for *how to install it*, and then actually install it on your computer and test whether it runs?\n",
    "\n",
    "\n",
    "<div class=\"alert alert-block alert-info\"><b>Tip:</b>\n",
    "I frequently use <a href=\"https://chat.openai.com\">Chat GPT</a> when I'm stuck with Python. Yet, it doesn't get everything right immediately, requiring extra care (and experience!) when using. I also sometimes cross-check with alternative websites where code was actually tested. For example, you could try <a href=\"https://stackoverflow.com/questions/\">Stackoverflow</a> for debugging and finding reliable answers. Here in Tilburg, we're also developing <a href=\"https://tilburgsciencehub.com\">Tilburg Science Hub</a>, which has many good code snippets to use.\n",
    "</div>\n",
    "\n"
   ]
  },
  {
   "cell_type": "markdown",
   "metadata": {
    "id": "vQ1q2iVfMmon"
   },
   "source": [
    "### 2.6 Why Jupyter Notebook sucks (but still we use it...)\n",
    "\n",
    "- Danger of point-and-click (and benefits of top-down execution)\n",
    "- High overhead (vs. lean `.py` files)\n",
    "- Support of advanced tutorials and packages (limited `selenium` support)\n",
    "\n",
    "<div class=\"alert alert-block alert-info\"><b>Tip:</b>\n",
    "You can mimick top-down execution in Jupyter Notebook by restarting the kernel (Kernel --> Restart), and executing your cells (Cells --> Run all).\n",
    "</div>\n",
    "\n",
    "- Ultimately, the benefits of Jupyter Notebook for education outweigh the drawbacks.\n",
    "- Feel free to use Visual Studio Code as a replacement (future-oriented!)\n",
    "\n",
    "\n",
    "---------"
   ]
  },
  {
   "cell_type": "markdown",
   "metadata": {
    "id": "VgjGN1HsMmon"
   },
   "source": [
    "## 3. Coding concepts for web data\n",
    "\n"
   ]
  },
  {
   "cell_type": "markdown",
   "metadata": {
    "id": "hWa9ess4Mmon",
    "jp-MarkdownHeadingCollapsed": true
   },
   "source": [
    "### 3.1 The web data workflow\n",
    "\n",
    "#### Planning, designing and executing the data collection (Boegershausen et al. 2022)\n",
    "\n",
    "1. Select data sources\n",
    "2. Design data collection\n",
    "    - Import data from the web into Python (\"how to import web data into Python?\")\n",
    "    - Select relevant data from raw HTML files or the output of APIs (\"how to select and filter data in Python?\")\n",
    "    - Store data in tables or databases (\"how to store data using Python?\")\n",
    "3. Execute data collection\n",
    "    - Schedule the data extraction and monitor its health (\"how to schedule Python scripts?\")\n",
    "    \n",
    "\n",
    "<div class=\"alert alert-block alert-info\"><b>Tip:</b>\n",
    "Curious about the \"real\" web data workflow (which is much more comprehensive then what is here? Start getting familiar with it early on by reading <a href=\"https://journals.sagepub.com/doi/10.1177/00222429221100750\">\"Fields of Gold\"</a> (you've got to know this paper inside out by the end of this course...).\n",
    "</div>\n",
    "\n",
    "#### Implementation specifics (Guyt et al. 2024)\n",
    "\n",
    "Usually, web scrapers consist of four \"shells\", that are gradually developed to complete a webscraping project. Next to selecting data sources, researchers\n",
    "1. *extract*: Build computer code to extract the data from the website\n",
    "2. *loop*: Build a loop to extract data for multiple products, users, etc.\n",
    "3. *schedule*: schedule the data collection, e.g., to run every day or week\n",
    "4. *infrastructure*: run scrapers on local (i.e., your own) or remote (e.g., in the cloud) infrastructure.\n"
   ]
  },
  {
   "cell_type": "markdown",
   "metadata": {
    "id": "6hraRKRJMmon"
   },
   "source": [
    "### 3.2 Variable types: Strings and Numbers\n",
    "- strings (`message = 'Hello world!'` and `message2 = \"This is a tutorial!\"`) vs. numbers (`age = 25`)\n",
    "- joining/concatenating strings (`message + message2`)\n",
    "- calculating with numbers (`age + 1`)\n",
    "- joining strings and numbers (+ conversion) (`message + str(age)`)\n",
    "- printing numbers and strings\n",
    "\n",
    "__Exercise 3.1__\n",
    "\n",
    "Please write some Python code that stores your name in a variable called `name`, and your age in a variable called `age`. Then, print the following to the screen: \"My name is `<YOUR NAME>` and I am `<AGE>` years old.\"."
   ]
  },
  {
   "cell_type": "markdown",
   "metadata": {
    "id": "byonFaw4Mmon"
   },
   "source": [
    "__Solution__"
   ]
  },
  {
   "cell_type": "code",
   "execution_count": 1,
   "metadata": {
    "id": "euSO7U5DMmon",
    "outputId": "05ed661f-ce06-495c-a966-ff1cc49a676c"
   },
   "outputs": [
    {
     "name": "stdout",
     "output_type": "stream",
     "text": [
      "My name is Jeroen and I am 25 years old.\n"
     ]
    }
   ],
   "source": [
    "name = \"Jeroen\"\n",
    "age = 25\n",
    "message = f\"My name is {name} and I am {age} years old.\"\n",
    "# alternatively: \"My name is \" + name + \" and I am \" +str(age) + \" years old.\"\n",
    "# You can also use the str() function to convert numbers to printable text!\n",
    "\n",
    "print(message)"
   ]
  },
  {
   "cell_type": "markdown",
   "metadata": {
    "id": "bdyGES-wMmoo"
   },
   "source": [
    "### 3.3 Crawling data using the `reddit.com` API\n",
    "\n"
   ]
  },
  {
   "cell_type": "markdown",
   "metadata": {
    "id": "OPvQKPHAMmoo"
   },
   "source": [
    "Obviously, this class is about retrieving data from the Internet. As a toy example, let us use the social network Reddit. Reddit has an amazingly accessible API, that we can use to extract some data.\n",
    "\n",
    "<div class=\"alert alert-block alert-info\"><b>APIs vs. web scraping</b><br>\n",
    "APIs are official interfaces by firms to offer data, code or functionality to its users. Think about the Twitter/X API that can be used by stockbrokers to train trading algorithms on Twitter/X data. Researchers can use APIs to officially tap into data sources of firms or organizations.\n",
    "Web scraping, in turn, refers to extracting information from *any* website or app on the internet. Typically, web scraping is limited to publicly available information only that you could also see in your browser).\n",
    "</div>\n",
    "\n",
    "Do not worry about the exact details about the code below, we are going to cover those in later lectures. Right now, please pay attention to the bigger picture: Retrieving data from a particular URL/endpoint (here, `reddit.com/r/university/about.json`), and retrieving particular information from that data (here, `display_name` and `title`)."
   ]
  },
  {
   "cell_type": "markdown",
   "metadata": {
    "id": "C_aRaKetMmoo"
   },
   "source": [
    "__Exercise 3.2__\n",
    "\n",
    "- Open [Reddit.com](https:/reddit.com) and find the \"University\" subreddit - browse it.\n",
    "- Copy the code below to Jupyter Notebook, and execute it.\n",
    "- Then, change the subreddit to one of your choice in the source code (i.e., search for something you find interesting on [Reddit.com](https://reddit.com), and rerun the cell.\n"
   ]
  },
  {
   "cell_type": "code",
   "execution_count": 1,
   "metadata": {
    "colab": {
     "base_uri": "https://localhost:8080/"
    },
    "id": "IdbgjM8CMmop",
    "outputId": "8e02c038-b085-4ebb-c428-46f8c3555284"
   },
   "outputs": [
    {
     "name": "stdout",
     "output_type": "stream",
     "text": [
      "Getting data from... https://www.reddit.com/r/University/about.json\n",
      "Subreddit name: University\n",
      "Subreddit title: University: Academic and real-world news for students, faculty, and academics\n"
     ]
    }
   ],
   "source": [
    "# load packages\n",
    "import requests # for making http requests\n",
    "import json # for dealing with JSON data\n",
    "\n",
    "# define a few variables\n",
    "subreddit = 'University'\n",
    "url = 'https://www.reddit.com/r/' + subreddit + '/about.json'\n",
    "\n",
    "# make web request with a header (\"to identify ourselves\"), convert to JSON data so we can query the object\n",
    "content = requests.get(url, headers = {'User-agent': 'I am learning Python.'}).json()\n",
    "\n",
    "# printing a status message\n",
    "print('Getting data from...', url)\n",
    "\n",
    "# printing some data\n",
    "print('Subreddit name:', content['data']['display_name'])\n",
    "print('Subreddit title:', content['data']['title'])"
   ]
  },
  {
   "cell_type": "markdown",
   "metadata": {
    "id": "jTeROZPVMmop"
   },
   "source": [
    "### 3.4 Reusing code with functions\n",
    "\n",
    "- Writing functions can drastically simplify code execution (avoiding copy-paste errors)\n",
    "- Functions start with `def`, and can (but not need to) have inputs (\"arguments\") and outputs (\"returns\")\n",
    "- Functions require a \"hierarchy\", as visualized with indents (same number of spaces or a tab)\n",
    "\n",
    "    \n",
    "<div class=\"alert alert-block alert-info\"><b>Tip:</b>\n",
    "Most novices don't get the indents right. Especially when copy-pasting code from the web, you end up with an inconsistent number of spaces and/or tabs, while Python requires you to always use the same number of spaces or tabs. Be aware of this bottleneck when coding! Check out <a href=\"https://www.youtube.com/watch?v=YL-CimZO_FE\" target=\"_blank\">this YouTube video for some easy explanation about indentation!</a>\n",
    "</div>\n",
    "\n",
    "__Exercise 3.3__\n",
    "\n",
    "- Copy the following function into your Jupyter Notebook, and run the cell."
   ]
  },
  {
   "cell_type": "code",
   "execution_count": 2,
   "metadata": {
    "id": "5SVGOe9CMmop"
   },
   "outputs": [],
   "source": [
    "def get_reddit_data(subreddit):\n",
    "    url = 'https://www.reddit.com/r/' + subreddit + '/about.json'\n",
    "    content = requests.get(url, headers = {'User-agent': 'I am learning Python.'}).json()\n",
    "    print('Getting data from...', url)\n",
    "    print('Subreddit name:', content['data']['display_name'])\n",
    "    print('Subreddit title:', content['data']['title'])"
   ]
  },
  {
   "cell_type": "markdown",
   "metadata": {
    "id": "znegj6RxMmop"
   },
   "source": [
    "- Then, run the function, by writing `get_reddit_data(\"university\")` in a new cell, and running that cell. Does it work?\n",
    "- Finally, call this function for three subreddits of your choice (and write the code for it & run it!).\n",
    "- What are the inputs and outputs of the `get_reddit_data` function?"
   ]
  },
  {
   "cell_type": "markdown",
   "metadata": {
    "id": "6lBK0qlFMmop"
   },
   "source": [
    "__Solution__"
   ]
  },
  {
   "cell_type": "code",
   "execution_count": 3,
   "metadata": {
    "colab": {
     "base_uri": "https://localhost:8080/"
    },
    "id": "lwPrkwW-Mmop",
    "outputId": "6a9ed988-67f2-4d56-c996-040f5394ad30"
   },
   "outputs": [
    {
     "name": "stdout",
     "output_type": "stream",
     "text": [
      "Getting data from... https://www.reddit.com/r/university/about.json\n",
      "Subreddit name: University\n",
      "Subreddit title: University: Academic and real-world news for students, faculty, and academics\n",
      "Getting data from... https://www.reddit.com/r/skateboarding/about.json\n",
      "Subreddit name: skateboarding\n",
      "Subreddit title: Skateboarding\n"
     ]
    }
   ],
   "source": [
    "get_reddit_data(\"university\")\n",
    "get_reddit_data(\"skateboarding\")\n",
    "\n",
    "# the inputs are: subreddit name; no outputs are RETURNED as data, but information is printed to the screen."
   ]
  },
  {
   "cell_type": "markdown",
   "metadata": {
    "id": "6VcaZDZoMmop"
   },
   "source": [
    "### 3.5 Returning and saving data\n",
    "\n",
    "At this stage, you have learned to write functions that print information to the screen. In many circumstances, though, it is better or more optimal to write functions that return particular data. For example, imagine that the information from our function above returns data (i.e. like the name of the subreddit) that we can later write to a data file and analyze.\n",
    "\n",
    "To be able to return data rather than merely printing information to the screen, we use the `return` command at the end of the function.\n",
    "\n",
    "For example, we can modify the function above to return a reddit's `display_name`.\n",
    "\n"
   ]
  },
  {
   "cell_type": "code",
   "execution_count": 4,
   "metadata": {
    "id": "qNLdFi1uMmoq"
   },
   "outputs": [],
   "source": [
    "def get_reddit_info(subreddit):\n",
    "    url = 'https://www.reddit.com/r/' + subreddit + '/about.json'\n",
    "    content = requests.get(url, headers = {'User-agent': 'I am learning Python.'}).json()\n",
    "    return(content['data']['active_user_count'])"
   ]
  },
  {
   "cell_type": "code",
   "execution_count": 5,
   "metadata": {
    "id": "ZMmiNbDFMmoq",
    "outputId": "b689594c-60f6-410c-e8f6-0282a742e20b"
   },
   "outputs": [
    {
     "data": {
      "text/plain": [
       "56"
      ]
     },
     "execution_count": 5,
     "metadata": {},
     "output_type": "execute_result"
    }
   ],
   "source": [
    "get_reddit_info(\"skateboarding\")"
   ]
  },
  {
   "cell_type": "markdown",
   "metadata": {
    "id": "PVxIr98uMmoq"
   },
   "source": [
    "Observe that, rather than having a lot of text printer to the screen, the only data returned is the display name.\n",
    "\n",
    "We can store this information also in a new variable, e.g.,"
   ]
  },
  {
   "cell_type": "code",
   "execution_count": 6,
   "metadata": {
    "colab": {
     "base_uri": "https://localhost:8080/"
    },
    "id": "YGYe01YgMmoq",
    "outputId": "164822bc-58d5-4bf0-909c-1632b49a0c22"
   },
   "outputs": [
    {
     "name": "stdout",
     "output_type": "stream",
     "text": [
      "56\n"
     ]
    }
   ],
   "source": [
    "info = get_reddit_info(\"skateboarding\")\n",
    "print(info)"
   ]
  },
  {
   "cell_type": "markdown",
   "metadata": {
    "id": "AIpxJRpmMmor"
   },
   "source": [
    "<div class=\"alert alert-block alert-info\"><b>Tip:</b>\n",
    "Many of us will struggle with picking good variable names. Typically, we should always use lower caps, and names that have a meaning. Calling something info1, info2, and info3 is not very meaningful. Read these tips about <a href=\"https://geo-python.github.io/site/notebooks/L1/gcp-1-variable-naming.html\" target=\"_blank\">naming variables and other coding conventions</a>.\n",
    "</div>"
   ]
  },
  {
   "cell_type": "markdown",
   "metadata": {
    "id": "n834_mYCMmor"
   },
   "source": [
    "At this point, our function has just returned one data point. But what if we want to return multiple data points, such as a display name, the number of subscribers, etc.?\n",
    "\n",
    "Call returning more complex data, we make use of the JSON file format. This file format consists of attribute-value pairs, e.g., `{'name': 'student', 'age': 25}`.\n",
    "\n",
    "Run the code below to see how you can store information in this file format, and subsequently query it!\n"
   ]
  },
  {
   "cell_type": "code",
   "execution_count": 7,
   "metadata": {
    "colab": {
     "base_uri": "https://localhost:8080/"
    },
    "id": "lI8l-CJCMmor",
    "outputId": "2b46bc8f-f32e-4a8c-f8d7-c082ae17528a"
   },
   "outputs": [
    {
     "name": "stdout",
     "output_type": "stream",
     "text": [
      "I am jeroen and I am 25 years old.\n"
     ]
    }
   ],
   "source": [
    "# store data in dictionary\n",
    "my_data = {'name': 'jeroen', 'age': 25}\n",
    "# retrieve data\n",
    "name = my_data.get('name')\n",
    "age = my_data.get('age')\n",
    "# print message\n",
    "message = f\"I am {name} and I am {age} years old.\"\n",
    "print(message)"
   ]
  },
  {
   "cell_type": "markdown",
   "metadata": {
    "id": "FcXr67reMmor"
   },
   "source": [
    "__Exercise 3.4__\n",
    "\n",
    "Please modify the `get_reddit_data` function to return a dictionary, holding the `display_name` and `title`, and store the dictionary in a variable called `output`."
   ]
  },
  {
   "cell_type": "markdown",
   "metadata": {
    "id": "QA4IFWRqMmos"
   },
   "source": [
    "__Solution__"
   ]
  },
  {
   "cell_type": "code",
   "execution_count": 8,
   "metadata": {
    "id": "1xJQeA-nMmos"
   },
   "outputs": [],
   "source": [
    "def get_reddit_data(subreddit):\n",
    "    url = 'https://www.reddit.com/r/' + subreddit + '/about.json'\n",
    "    content = requests.get(url, headers = {'User-agent': 'I am learning Python.'}).json()\n",
    "    my_data = {'display_name': content['data']['display_name'],\n",
    "               'title': content['data']['title']}\n",
    "    print('Getting data from...', url)\n",
    "\n",
    "    return(my_data)\n"
   ]
  },
  {
   "cell_type": "code",
   "execution_count": 9,
   "metadata": {
    "id": "zdgW5mdkMmos",
    "outputId": "3f480cad-e098-4911-838c-3a9627c954be"
   },
   "outputs": [
    {
     "name": "stdout",
     "output_type": "stream",
     "text": [
      "Getting data from... https://www.reddit.com/r/skateboarding/about.json\n"
     ]
    },
    {
     "data": {
      "text/plain": [
       "{'display_name': 'skateboarding', 'title': 'Skateboarding'}"
      ]
     },
     "execution_count": 9,
     "metadata": {},
     "output_type": "execute_result"
    }
   ],
   "source": [
    "output = get_reddit_data('skateboarding')\n",
    "output"
   ]
  },
  {
   "cell_type": "markdown",
   "metadata": {
    "id": "mXVZAzVHMmos"
   },
   "source": [
    "### 3.6 Arrays and looping\n",
    "- In web data, you typically want to get data on MORE than one page/endpoint (e.g., subreddit).\n",
    "- Copy-pasting -- even simple function calls -- is to be avoided (copy-paste mistakes, code complexity)\n",
    "- To hold multiple records of information, we can use so-called __arrays__. Think of them as lists of multiple values, e.g., subreddit names `subreddits = ['university','marketing','sports']`\n",
    "- We can now make use of a process called \"looping\", i.e., iterating through these lists. Combining arrays (\"the starting point\") with loops (to repeat some action on them) is very powerful! See the snippet below, which first defines a list of subreddit names, and then prints them to the screen."
   ]
  },
  {
   "cell_type": "code",
   "execution_count": 10,
   "metadata": {
    "colab": {
     "base_uri": "https://localhost:8080/"
    },
    "id": "5Bs5fMzhMmos",
    "outputId": "bdc230a1-ba7f-4f4e-d15b-dbfe8dccd8f4"
   },
   "outputs": [
    {
     "name": "stdout",
     "output_type": "stream",
     "text": [
      "university\n",
      "marketing\n",
      "sports\n"
     ]
    }
   ],
   "source": [
    "subreddits = ['university','marketing','sports']\n",
    "\n",
    "for item in subreddits:\n",
    "    print(item)"
   ]
  },
  {
   "cell_type": "markdown",
   "metadata": {
    "id": "lFjgksr2Mmot"
   },
   "source": [
    "__Exercise 3.5__\n",
    "\n",
    "- Now that you know what a loop is, can you modify the code-snippet above, to repeatedly execute the `get_reddit_data()` function on the subreddits?\n",
    "\n",
    "- Test the function --- does it work? Where does the output go?\n"
   ]
  },
  {
   "cell_type": "code",
   "execution_count": 11,
   "metadata": {
    "colab": {
     "base_uri": "https://localhost:8080/"
    },
    "id": "2282BE9rMmot",
    "outputId": "0d8d7452-34ea-4dc4-8e2f-48d97f78409f"
   },
   "outputs": [
    {
     "name": "stdout",
     "output_type": "stream",
     "text": [
      "Getting data from... https://www.reddit.com/r/university/about.json\n",
      "Getting data from... https://www.reddit.com/r/marketing/about.json\n",
      "Getting data from... https://www.reddit.com/r/sports/about.json\n"
     ]
    }
   ],
   "source": [
    "subreddits = ['university','marketing','sports']\n",
    "\n",
    "for item in subreddits:\n",
    "    get_reddit_data(item)\n",
    "\n",
    "# the data is nowhere to be found - it's not saved anywhere."
   ]
  },
  {
   "cell_type": "markdown",
   "metadata": {
    "id": "G30_KdPjMmot"
   },
   "source": [
    "### 3.7 Saving text in \"flat files\"\n",
    "\n",
    "As you have seen above, well the function is repeatedly executed, the data is nowhere to be found. So, at this stage, we are going to learn how we can actually write information to a file. For this, we will make use of a file writing process, consisting of the commands `open`, `write`, and `close`. Watch the code snippet below, which saves some output to a file. Try to locate this file on your desk and open it!\n"
   ]
  },
  {
   "cell_type": "code",
   "execution_count": 12,
   "metadata": {
    "id": "EDQ7jHDbMmot"
   },
   "outputs": [],
   "source": [
    "f = open('filename.txt', 'w', encoding = 'utf-8') # open new file for writing\n",
    "f.write('Hello world!\\n') # write content and NEW LINE character to file ('\\n')\n",
    "f.close() # close file"
   ]
  },
  {
   "cell_type": "markdown",
   "metadata": {
    "id": "n5SCsx_FMmot"
   },
   "source": [
    "A few more explanations follow.\n",
    "\n",
    "First, observe the `'w'` in the function above. This indicates we open a file for writing. Other ways to open files are just for reading, which would be represented with an `'r'`. Other ways of opening files are in the `'a'` mode: whereas `'w'` overwrites the file every time it is executed, `'a'` appends new information to a file.\n",
    "\n",
    "Second, we must be aware of file encodings. Back in the days, computers only understood English characters. So no umlaut in German and no accents in French. Because we are extracting web data, we are highly likely to encounter non-English information. So it is safest to use the most universal file storing format, which is called `utf-8`. This is important not only for writing data, but also for reading that information later.\n",
    "\n",
    "Third, observe that we have chosen a file extension to be `.txt`. This is just a convention to indicate to users what type of data format we have used. But, it really doesn't matter what you call it. You can leave it out, call it `.json`, or anything else.\n",
    "\n",
    "Fourth, note that we are writing to a flat file. It can be opened in any editor. To start new lines, we use special characters. Above, we have used `\"\\n\"` to start a new line. Other special characters are `\"\\t\"` to insert the TAB character."
   ]
  },
  {
   "cell_type": "markdown",
   "metadata": {
    "id": "UatajsQPMmot"
   },
   "source": [
    "__Exercise 3.6__\n",
    "\n",
    "Use the code (`f = open`...) from the cell above to create a new cell below, and write some code that appends `\"I am working on a tutorial\"` to the `filename.txt` file."
   ]
  },
  {
   "cell_type": "markdown",
   "metadata": {
    "id": "Nem6tWZDMmou"
   },
   "source": [
    "__Solution__"
   ]
  },
  {
   "cell_type": "code",
   "execution_count": 13,
   "metadata": {
    "id": "LNSwsbINMmou"
   },
   "outputs": [],
   "source": [
    "f = open('filename.txt', 'a', encoding = 'utf-8') # note we have used `a` to append here!\n",
    "f.write('I am working on a tutorial.\\n')\n",
    "f.close()\n",
    "\n",
    "# open the file now and verify it has worked!"
   ]
  },
  {
   "cell_type": "markdown",
   "metadata": {
    "id": "9_qojvH8Mmou"
   },
   "source": [
    "### 3.8 Storing dictionaries in new-line separated JSON files\n",
    "\n",
    "Now, we know how to write text to a file. But how can we save JSON objects in a text file?\n",
    "\n",
    "We can learn how to convert a JSON object to simple text for this. We will then store separate JSON objects in a text file, separated by new lines. This very popular file format is called \"new-line separated JSON files.\"\n",
    "\n",
    "To be able to use it, we first need to learn how to convert JSON data into \"flat\" and textual information. For this, we use the `json` library.\n"
   ]
  },
  {
   "cell_type": "code",
   "execution_count": 23,
   "metadata": {
    "colab": {
     "base_uri": "https://localhost:8080/",
     "height": 35
    },
    "id": "CCI0Y1TKMmou",
    "outputId": "36803513-a14a-4b13-f74e-9139e5f475fd"
   },
   "outputs": [
    {
     "data": {
      "text/plain": [
       "'{\"name\": \"student\", \"age\": 25}'"
      ]
     },
     "execution_count": 23,
     "metadata": {},
     "output_type": "execute_result"
    }
   ],
   "source": [
    "my_datapoint = {'name': 'student', 'age': 25}\n",
    "\n",
    "import json\n",
    "\n",
    "json.dumps(my_datapoint)"
   ]
  },
  {
   "cell_type": "markdown",
   "metadata": {
    "id": "y1H6A-ZoMmou"
   },
   "source": [
    "In the code above, the `json.dumps` command takes a JSON object, and converts it into a character string (indicated by `'`).\n",
    "\n",
    "<div class=\"alert alert-block alert-info\"><b>Tip:</b>\n",
    "    Have you noticed we have imported the json library to make use of the <code>json.dumps</code> function? Typically, all necessary packages are imported on top of your script (which we have not done here only because of didactical reasons. Just remember it when working on your actual projects!\n",
    "</div>"
   ]
  },
  {
   "cell_type": "markdown",
   "metadata": {
    "id": "NX1MGNJHMmou"
   },
   "source": [
    "__Exercise 3.7__\n",
    "\n",
    "Please write some code that *saves* the variable content of `my_datapoint` to a flat `json` file, called `my_data.json`."
   ]
  },
  {
   "cell_type": "markdown",
   "metadata": {
    "id": "n6KetwrRMmou"
   },
   "source": [
    "__Solution__\n"
   ]
  },
  {
   "cell_type": "code",
   "execution_count": null,
   "metadata": {
    "id": "c2bjZbhcMmou"
   },
   "outputs": [],
   "source": [
    "import json\n",
    "my_datapoint = {'name': 'student', 'age': 25}\n",
    "f=open('my_data.json','w',encoding='utf-8')\n",
    "f.write(json.dumps(my_datapoint))\n",
    "f.close()"
   ]
  },
  {
   "cell_type": "markdown",
   "metadata": {
    "id": "R14mRDmDMmou"
   },
   "source": [
    "### 3.9 Tying things together\n",
    "\n",
    "Now it's your turn. Use the concepts from above to...\n",
    "\n",
    "- Create an array, holding ten subreddit names of your choice\n",
    "- Write a function that returns as a dictionary the following data points from the about page of a subreddit: `display_name`, `title`, `subscribers`, and the date of creation, `created` (e.g., this is the link to the viewable about page for the [subreddit \"University\"](https://www.reddit.com/r/University/about), and this is the link to the [JSON version of the same page](https://www.reddit.com/r/University/about/.json)).\n",
    "- Write a loop to retrieve data for the ten subreddits, and store the data in a new-line separated JSON file called `my_first_web_data.json`.\n",
    "\n",
    "<div class=\"alert alert-block alert-info\"><b>Tips:</b>\n",
    "    \n",
    "<ul>\n",
    "    <li>Did you know you can \"look\" at the API output directly in Firefox or Chrome? Just open the URL that is called for a particular subreddit in your browser. Try it with <a href='https://www.reddit.com/r/University/about.json'>this one first (click)!</a></li>\n",
    "  <li>You can use <code>f.write</code> multiple times in your code. To write a new line to the file, use <code>f.write('\\n')</code>.</li>\n",
    "    <li>Please pay attention to where you open the file for the first time, and how (<code>'a'</code> vs. <code>'w'</code>)</li>\n",
    "\n",
    "    \n",
    "</ul>\n",
    "    <br>\n",
    "Watch the solution to this exercise on <a href='https://youtu.be/WOXUFOolPgI' target=\"_blank\">YouTube</a>.\n",
    "</div>\n",
    "\n"
   ]
  },
  {
   "cell_type": "markdown",
   "metadata": {
    "id": "P1gzkWLxMmou"
   },
   "source": [
    "__That's it! Good job!__"
   ]
  }
 ],
 "metadata": {
  "colab": {
   "provenance": []
  },
  "kernelspec": {
   "display_name": "Python 3 (ipykernel)",
   "language": "python",
   "name": "python3"
  },
  "language_info": {
   "codemirror_mode": {
    "name": "ipython",
    "version": 3
   },
   "file_extension": ".py",
   "mimetype": "text/x-python",
   "name": "python",
   "nbconvert_exporter": "python",
   "pygments_lexer": "ipython3",
   "version": "3.12.4"
  }
 },
 "nbformat": 4,
 "nbformat_minor": 4
}
