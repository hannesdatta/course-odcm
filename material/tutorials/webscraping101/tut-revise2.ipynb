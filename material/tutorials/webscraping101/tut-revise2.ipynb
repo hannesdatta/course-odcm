{
 "cells": [
  {
   "cell_type": "markdown",
   "id": "65bc58e9",
   "metadata": {
    "lines_to_next_cell": 0
   },
   "source": [
    "# 1. Web Scraping 101\n",
    "\n",
    "Welcome back!  \n",
    "\n",
    "In the **Python Bootcamp**, you already learned how to open a web page with `requests`,\n",
    "read a few bits of data using `BeautifulSoup`, and save the result in a file.\n",
    "That was your first small taste of **web scraping**.\n",
    "\n",
    "In this tutorial, we’ll take the next step: you’ll build your first\n",
    "**complete web scraper** — a short program that automatically collects\n",
    "information from a website and saves it for later analysis.\n",
    "\n",
    "---\n",
    "\n",
    "## 1.1 Recap\n",
    "\n",
    "### What does “web scraping” mean?\n",
    "\n",
    "- Every website you visit (Spotify, IMDb, a news site…) is built with **HTML**.\n",
    "HTML is just a structured text file that tells your browser what to show:\n",
    "where the titles go, which images to load, and so on.\n",
    "- A **web scraper** is a piece of Python code that reads this HTML directly,\n",
    "finds the parts we care about — like artist names or song titles —\n",
    "and stores them neatly in a table or CSV file.\n",
    "\n",
    "### Why scrape websites?\n",
    "\n",
    "Sometimes the data you need isn’t available as a CSV or via an API. Instead of copying it by hand, you can let Python do it for you.\n",
    "\n",
    "A few quick examples:\n",
    "- Collect product prices from a webshop  \n",
    "- Gather job openings from a company page  \n",
    "- Extract song data from a music website  \n",
    "\n",
    "Once you get the hang of it, scraping small datasets like these\n",
    "is surprisingly useful — and kind of fun.\n",
    "\n",
    "<div style=\"border-left: 4px solid #2e7d32; background-color: #e8f5e9; padding: 0.8em 1em; border-radius: 6px;\">\n",
    "  <p>💡 <strong>Why Scrape?</strong></p>\n",
    "  <p>Imagine you find a webpage with a list of songs:</p>\n",
    "  <pre style=\"margin: 0.5em 0; padding: 0.6em; background: #f7f7f7; border: 1px solid #ddd; border-radius: 4px;\">Song 1 – Artist A\n",
    "Song 2 – Artist B\n",
    "Song 3 – Artist C</pre>\n",
    "  <p>You could copy-paste by hand—but what if there are 100 songs or 100 pages?</p>\n",
    "  <ul>\n",
    "    <li>Visit each page automatically</li>\n",
    "    <li>Grab all titles and artists</li>\n",
    "    <li>Save them neatly into one file</li>\n",
    "  </ul>\n",
    "  <p>That’s what we’ll build step by step.</p>\n",
    "</div>\n",
    "\n",
    "\n",
    "---\n",
    "\n",
    "## 1.2 Today's focus: a \"static\" web scraper\n",
    "\n",
    "Some websites are simple: when you open the page, **all the data is already there**\n",
    "in the HTML. These are called **static websites**.\n",
    "\n",
    "For example, a page showing “Top 10 songs of the week” might list all ten songs\n",
    "right away.   For pages like that, we can simply:\n",
    "\n",
    "1. **Download** the page’s HTML using `requests`, and  \n",
    "2. **Extract** what we want using `BeautifulSoup`.\n",
    "\n",
    "Later in the course, we’ll meet **dynamic websites** — pages that load content\n",
    "*after* you scroll or click (for example, many shops or streaming sites). For those, we’ll use special tools like Selenium. But before that, let’s master the simple — and much faster — static kind first.\n",
    "\n",
    "__What you’ll learn in this tutorial__\n",
    "\n",
    "In this tutorial, you’ll learn how to:\n",
    "\n",
    "- Understand how a web page is structured and where to find your data  \n",
    "- Write a script that downloads several pages automatically  \n",
    "- Handle small issues like missing data  \n",
    "- Be polite to websites by adding short pauses  \n",
    "- Save everything you collected in a clean, reusable format  \n",
    "\n",
    "Each step builds on the previous one, always starting from working code.\n",
    "\n",
    "<div style=\"border-left: 4px solid #2e7d32; background-color: #e8f5e9; padding: 0.8em 1em; border-radius: 6px;\">\n",
    "  <p>💡 <strong>Ethical and Legal Use</strong></p>\n",
    "  <ul>\n",
    "    <li>Add short pauses between requests (so you don’t overload the site)</li>\n",
    "    <li>Don’t scrape information behind login screens</li>\n",
    "    <li>Never collect personal or private data</li>\n",
    "    <li>Check the site’s <code>robots.txt</code> file to see what’s allowed</li>\n",
    "  </ul>\n",
    "  <p>We’ll talk more about these topics in the web-data ethics lecture later in the course. For now, just keep these good habits in mind.</p>\n",
    "</div>\n",
    "\n",
    "## 1.3 Checking that your setup works\n",
    "\n",
    "Before we start scraping, let’s make sure everything is ready.\n",
    "You’ll need three Python packages:\n",
    "\n",
    "- `requests` — downloads web pages  \n",
    "- `BeautifulSoup` — reads and parses the HTML  \n",
    "- `time` — lets you pause between requests so you don’t get blocked  \n",
    "\n",
    "__Run the next cell to test your setup.__"
   ]
  },
  {
   "cell_type": "code",
   "execution_count": null,
   "id": "cdc6eb2e",
   "metadata": {},
   "outputs": [],
   "source": [
    "import requests\n",
    "from bs4 import BeautifulSoup\n",
    "import time\n",
    "\n",
    "print(\"✅ All good! Requests, BeautifulSoup, and time are ready to use.\")"
   ]
  },
  {
   "cell_type": "markdown",
   "id": "7325cd81",
   "metadata": {
    "lines_to_next_cell": 2
   },
   "source": [
    "__Encountering issues?__ Then please install the necessary packages by running the command below on your command line/terminal.\n",
    "\n",
    "```bash\n",
    "pip install requests beautifulsoup4\n",
    "```\n",
    "\n",
    "Once that works, you’re ready to start exploring real websites!"
   ]
  },
  {
   "cell_type": "markdown",
   "id": "6c23a4e3",
   "metadata": {},
   "source": [
    "# 2. Finding Information on a Web Page\n",
    "\n",
    "Now that your setup works, let’s explore how to actually **find** information\n",
    "on a web page.\n",
    "\n",
    "When you open a website in your browser, you see titles, images, links,\n",
    "and descriptions. Underneath all that lies **HTML**, which organizes everything.\n",
    "\n",
    "In this section, we’ll learn how to read that structure, find the right pieces,\n",
    "and extract exactly the data we want.  \n",
    "You’ll also learn how to debug small issues when something doesn’t behave as expected.\n",
    "\n",
    "---"
   ]
  },
  {
   "cell_type": "markdown",
   "id": "fd238aa9",
   "metadata": {},
   "source": [
    "## 2.1 Understanding the structure of a web page\n",
    "\n",
    "Every website is built with HTML — the same language you briefly saw in the Bootcamp.\n",
    "Here’s what one small part of a page might look like:\n",
    "\n",
    "```html\n",
    "<div class=\"list-group-item\"</div>\n",
    "```\n",
    "\n",
    "or\n",
    "\n",
    "```html\n",
    "<a href=\"song?song-id=SOJKNYV12A8C133E9C\">Gabriel Yared</a>\n",
    "```\n",
    "\n",
    "Let’s break this down:\n",
    "\n",
    "- The **tag** (e.g., `<div`, `<a>`) tells us what kind of element it is. For example, `<div>` is a section \"divider\", and `<a>` is a link. In case you're interested, [here's a full list of tag words](https://www.w3schools.com/tags/).\n",
    "- The **attribute** (`class`) and **value** (`list-group-item`) gives extra information, e.g., an element we can select for scraping, typically used to group of similar elements. The attribute \"class\" is probably the one you are going to encounter a lot.\n",
    "- The **text** (`Gabriel Yared`) is what we actually see on the page. It 'sits' inbetween `>` and `<`.\n",
    "\n",
    "These pattern appears everywhere. When we scrape, we’ll use it as a \"navigation guide\" to capture what we're interested in:\n",
    "**Tag → Attribute → Value → Text (or attribute content)**.\n",
    "\n",
    "Let’s look at an example from our demo website."
   ]
  },
  {
   "cell_type": "code",
   "execution_count": null,
   "id": "6aae14f0",
   "metadata": {},
   "outputs": [],
   "source": [
    "import requests\n",
    "from bs4 import BeautifulSoup\n",
    "\n",
    "url = \"https://music-to-scrape.org\"   # demo site\n",
    "page = requests.get(url)\n",
    "soup = BeautifulSoup(page.text, \"html.parser\")\n",
    "\n",
    "# show the first few links so we can explore them\n",
    "links = soup.find_all(\"a\")[:5]\n",
    "for l in links:\n",
    "    print(l)"
   ]
  },
  {
   "cell_type": "markdown",
   "id": "addbd423",
   "metadata": {},
   "source": [
    "### Exercise 1\n",
    "\n",
    "Modify the snippet above, to __print the LINK__ (rather than the full HTML), for __all__ links contained on the website.\n",
    "\n",
    "__Tip:__ use `l.get('href')` to extract the link addresses."
   ]
  },
  {
   "cell_type": "code",
   "execution_count": null,
   "id": "3e174938",
   "metadata": {},
   "outputs": [],
   "source": [
    "# starter code\n",
    "import requests\n",
    "from bs4 import BeautifulSoup\n",
    "\n",
    "url = \"https://music-to-scrape.org\"   # demo site\n",
    "page = requests.get(url)\n",
    "soup = BeautifulSoup(page.text, \"html.parser\")\n",
    "\n",
    "# show the first few links so we can explore them\n",
    "links = soup.find_all(\"a\")[:5]\n",
    "for l in links:\n",
    "    print(l)"
   ]
  },
  {
   "cell_type": "markdown",
   "id": "06c95a6b",
   "metadata": {},
   "source": [
    "### ✅ Solution - Exercise 1"
   ]
  },
  {
   "cell_type": "code",
   "execution_count": null,
   "id": "bb4592d6",
   "metadata": {},
   "outputs": [],
   "source": [
    "import requests\n",
    "from bs4 import BeautifulSoup\n",
    "\n",
    "url = \"https://music-to-scrape.org\"   # demo site\n",
    "page = requests.get(url)\n",
    "soup = BeautifulSoup(page.text, \"html.parser\")\n",
    "\n",
    "links = soup.find_all(\"a\")\n",
    "for l in links:\n",
    "    print(l.get('href'))"
   ]
  },
  {
   "cell_type": "markdown",
   "id": "d6e5e8ec",
   "metadata": {},
   "source": [
    "## 2.2 Using `.find()` and `.find_all()` — your main tools\n",
    "\n",
    "BeautifulSoup gives you two simple but powerful commands:\n",
    "\n",
    "- `.find()` → returns **the first** matching element  \n",
    "- `.find_all()` → returns **all** matching elements as a list  \n",
    "\n",
    "Both take two main arguments:\n",
    "1. The **tag name** (like `\"a\"` or `\"div\"`)  \n",
    "2. **Attribute-value pairs**. (`attrs = {'attribute': 'value'})`. If the special case of classes, you can directly add the class to the `.find()` or `.find_all()` command (`class_=\"recently_played\"`).\n",
    "\n",
    "Let’s try it next."
   ]
  },
  {
   "cell_type": "code",
   "execution_count": null,
   "id": "9197a5a1",
   "metadata": {},
   "outputs": [],
   "source": [
    "# Starter code (works as is)\n",
    "first_section = soup.find(\"section\", attrs = {\"name\": \"recently_played\"})\n",
    "all_links_in_section  = first_section.find_all(\"a\")\n",
    "\n",
    "print(\"\\nNumber of links found:\", len(all_links_in_section))"
   ]
  },
  {
   "cell_type": "markdown",
   "id": "cb9f5436",
   "metadata": {},
   "source": [
    "### Exercise 2 – Modify the search\n",
    "\n",
    "The code above finds links in the first section on the website (\"recently played\")\n",
    "\n",
    "Your task:\n",
    "\n",
    "1. Change the code to extract the number of links from the \"Top 15 weekly tracks\" section.\n",
    "2. Change the code to also print all the identified links to the screen using f-strings.\n",
    "\n",
    "Don’t worry — the worst that happens is you get an empty list.\n",
    "\n",
    "**Tip:** If you get `None` or `[]`, check the tag and class name again\n",
    "using your browser’s *Inspect* tool.\n"
   ]
  },
  {
   "cell_type": "code",
   "execution_count": null,
   "id": "4182223c",
   "metadata": {},
   "outputs": [],
   "source": [
    "# starter code\n",
    "first_section = soup.find(\"section\", attrs = {\"name\": \"recently_played\"})\n",
    "all_links_in_section  = first_section.find_all(\"a\")\n",
    "\n",
    "print(\"\\nNumber of links found:\", len(all_links_in_section))"
   ]
  },
  {
   "cell_type": "markdown",
   "id": "fc31a68e",
   "metadata": {},
   "source": [
    "### ✅ Solution - Exercise 2"
   ]
  },
  {
   "cell_type": "code",
   "execution_count": null,
   "id": "157ea1b4",
   "metadata": {},
   "outputs": [],
   "source": [
    "# starter code\n",
    "first_section = soup.find(\"section\", attrs = {\"name\": \"weekly_15\"})\n",
    "all_links_in_section  = first_section.find_all(\"a\")\n",
    "\n",
    "print(\"\\nNumber of links found:\", len(all_links_in_section))\n",
    "\n",
    "for l in all_links_in_section:\n",
    "    print(f'Link: {l.get('href')}')"
   ]
  },
  {
   "cell_type": "markdown",
   "id": "0446b7fe",
   "metadata": {},
   "source": [
    "## 2.3 Extracting the text or the link itself\n",
    "\n",
    "Once you’ve found the right element, you can choose what to extract:\n",
    "\n",
    "- `[ ... ]` or `.get(...)` lets you access an attribute (like a link or image source) - we've done this before.\n",
    "- `.get_text()` gives you what’s visible on the page (the text between the tags).  \n",
    "\n",
    "Example:\n",
    "```python\n",
    "element.get_text()     # visible text\n",
    "element[\"href\"]        # link stored inside the tag\n",
    "element.get(\"href\")    # link stored inside the tag\n",
    "\n",
    "```\n",
    "\n",
    "Let’s practice."
   ]
  },
  {
   "cell_type": "code",
   "execution_count": null,
   "id": "7e32be61",
   "metadata": {},
   "outputs": [],
   "source": [
    "# this code builds on solution 2, and spits out the name of each song in the weekly top 15.\n",
    "first_section = soup.find(\"section\", attrs = {\"name\": \"weekly_15\"})\n",
    "items  = first_section.find_all('a')\n",
    "\n",
    "for i in items:\n",
    "    print(f'Song: {i.find(class_ = 'center-text').get_text().strip()}')\n",
    "    print('\\n') # new line"
   ]
  },
  {
   "cell_type": "markdown",
   "id": "36ec308c",
   "metadata": {},
   "source": [
    "### Exercise 3 – Adjust the extraction\n",
    "\n",
    "1. Modify the code snippet (below) to also spit out the LINK to each song in the loop.\n",
    "\n",
    "**Goal:** see that `.get_text()` extracts what’s visible (you already used it here), while `[...]` or `.get()` pulls information stored inside the tag.\n",
    "\n"
   ]
  },
  {
   "cell_type": "code",
   "execution_count": null,
   "id": "5ad48230",
   "metadata": {},
   "outputs": [],
   "source": [
    "# starter code\n",
    "first_section = soup.find(\"section\", attrs = {\"name\": \"weekly_15\"})\n",
    "items  = first_section.find_all('a')\n",
    "\n",
    "for i in items:\n",
    "    print(f'Song: {i.find(class_ = 'center-text').get_text().strip()}')\n",
    "    print('\\n') # new line"
   ]
  },
  {
   "cell_type": "markdown",
   "id": "83c01316",
   "metadata": {},
   "source": [
    "### ✅ Solution - Exercise 3"
   ]
  },
  {
   "cell_type": "code",
   "execution_count": null,
   "id": "8f166ebb",
   "metadata": {},
   "outputs": [],
   "source": [
    "# starter code\n",
    "first_section = soup.find(\"section\", attrs = {\"name\": \"weekly_15\"})\n",
    "items  = first_section.find_all('a')\n",
    "\n",
    "for i in items:\n",
    "    print(f'Song: {i.find(class_ = 'center-text').get_text().strip()}')\n",
    "    print(f'Link: {i.get('href')}')\n",
    "    print('\\n') # new line"
   ]
  },
  {
   "cell_type": "markdown",
   "id": "188236a5",
   "metadata": {},
   "source": [
    "## 2.4 Quick recap\n",
    "\n",
    "- Use your browser’s *Inspect* tool to see how the page is structured.  \n",
    "- Use `.find()` and `.find_all()` to pick out tags or groups of tags.  \n",
    "- Extract either the visible **text** or an **attribute** like `href`.  \n",
    "- When things don’t work, print what you have and go one step back.  \n",
    "\n",
    "---\n",
    "\n",
    "Great job — you now know how to explore and extract information\n",
    "from a single web page.\n",
    "\n",
    "In the next section, we’ll build on this by looping over multiple pages,\n",
    "adding short delays so we don’t overload servers,\n",
    "and handling small errors automatically.\n",
    "\n"
   ]
  },
  {
   "cell_type": "markdown",
   "id": "911627a2",
   "metadata": {},
   "source": [
    "## 3. From One Page to Many\n",
    "\n",
    "So far, you’ve learned how to scrape information from **one single page**.  \n",
    "But most projects need data from **many pages** — for example, one page per artist,\n",
    "product, or job listing.\n",
    "\n",
    "In this section, you’ll learn how to:\n",
    "\n",
    "- Loop through multiple pages automatically  \n",
    "- Record *when* each page was collected  \n",
    "- Keep your scraper running even when data is missing  \n",
    "- Add short pauses so you don’t overload servers  \n",
    "- Turn your scraping code into a reusable function  \n",
    "\n",
    "By the end, you’ll have a complete static web scraper that can\n",
    "gather structured data across multiple pages — responsibly.\n"
   ]
  },
  {
   "cell_type": "markdown",
   "id": "55aab6ab",
   "metadata": {},
   "source": [
    "## 3.1 Extracting User Profile Data  \n",
    "\n",
    "[`music-to-scrape.org`](https://music-to-scrape.org) holds user consumption data across multiple pages (one per week). Our goal is to navigate each user’s profile and save the names of all songs, artists, and timestamps (date/time) by visiting these pages one by one.  "
   ]
  },
  {
   "cell_type": "markdown",
   "id": "a8e696b4",
   "metadata": {},
   "source": [
    "__Let's try it out__\n",
    "\n",
    "Open [the website](https://music-to-scrape.org/user?username=StarCoder49&week=36), and click on the \"previous\" button at the top of the page. Do you understand how you will be able to \"loop\" through the site?\n",
    "\n",
    "<img src=\"https://raw.githubusercontent.com/hannesdatta/course-odcm/master/content/docs/modules/week3/webscraping101/images/mts-user-page.png\" align=\"left\" width=90%/>"
   ]
  },
  {
   "cell_type": "markdown",
   "id": "22298d6c",
   "metadata": {},
   "source": [
    "It’s helpful to prototype before assembling a full working script.  \n",
    "\n",
    "Let’s start by downloading the first page of a user and storing it in a variable called `soup`. Here, we make use of a header, such that the website \"knows\" which browser we are using (or, pretend to be using)."
   ]
  },
  {
   "cell_type": "code",
   "execution_count": null,
   "id": "e16eb412",
   "metadata": {
    "lines_to_next_cell": 2
   },
   "outputs": [],
   "source": [
    "import requests\n",
    "from bs4 import BeautifulSoup\n",
    "\n",
    "url = 'https://music-to-scrape.org/user?username=StarCoder49&week=6'\n",
    "header = {'User-agent': 'Mozilla/5.0'}\n",
    "res = requests.get(url, headers = header)\n",
    "res.encoding = res.apparent_encoding\n",
    "soup = BeautifulSoup(res.text)"
   ]
  },
  {
   "cell_type": "markdown",
   "id": "d8b7dc0a",
   "metadata": {},
   "source": [
    "We can now try a few commands to access information on the site. Of course, the browser inspect tool is important to have opened on the side. You probably notice that the table is quite easy to capture - it has it's own tag, called `table`."
   ]
  },
  {
   "cell_type": "markdown",
   "id": "b9f9726d",
   "metadata": {},
   "source": [
    "\n",
    "<img src=\"https://raw.githubusercontent.com/hannesdatta/course-odcm/master/content/docs/modules/week3/webscraping101/images/mts-table.png\" align=\"left\" width=90%/>"
   ]
  },
  {
   "cell_type": "code",
   "execution_count": null,
   "id": "8ec80b1c",
   "metadata": {},
   "outputs": [],
   "source": [
    "table = soup.find('table')\n",
    "table"
   ]
  },
  {
   "cell_type": "markdown",
   "id": "61afe3ed",
   "metadata": {},
   "source": [
    "See? This one worked quite well! Inspecting the table a bit more, you can get at the individual rows using the `tr` tag. Again, use your browser's inspect tool to spot it!"
   ]
  },
  {
   "cell_type": "code",
   "execution_count": null,
   "id": "ee761c35",
   "metadata": {},
   "outputs": [],
   "source": [
    "table.find('tr')"
   ]
  },
  {
   "cell_type": "markdown",
   "id": "20fd61d3",
   "metadata": {},
   "source": [
    "This is just the first row. Using `.find_all()`, instead, will give you a list of all rows."
   ]
  },
  {
   "cell_type": "code",
   "execution_count": null,
   "id": "2b516408",
   "metadata": {},
   "outputs": [],
   "source": [
    "rows = table.find_all('tr')\n",
    "rows"
   ]
  },
  {
   "cell_type": "markdown",
   "id": "16356308",
   "metadata": {},
   "source": [
    "We can also check whether the number of rows is equal to what we would expect from looking at the website. Using the `len` function for this yields..."
   ]
  },
  {
   "cell_type": "code",
   "execution_count": null,
   "id": "9a17a219",
   "metadata": {},
   "outputs": [],
   "source": [
    "len(rows)"
   ]
  },
  {
   "cell_type": "markdown",
   "id": "a7a9389a",
   "metadata": {},
   "source": [
    "Looks about right? Yes! So, let's now try to extract, for one row, the name of the song and artist, corresponding to the first and second column of the table.\n",
    "\n",
    "Let's first select one row for prototyping. We take row 2 (which is the first row after the table header)."
   ]
  },
  {
   "cell_type": "code",
   "execution_count": null,
   "id": "e257a9d9",
   "metadata": {},
   "outputs": [],
   "source": [
    "one_row = rows[1]"
   ]
  },
  {
   "cell_type": "code",
   "execution_count": null,
   "id": "e5ab4194",
   "metadata": {},
   "outputs": [],
   "source": [
    "one_row"
   ]
  },
  {
   "cell_type": "code",
   "execution_count": null,
   "id": "6777c618",
   "metadata": {},
   "outputs": [],
   "source": [
    "one_row.find_all('td')[0].get_text() # for song name"
   ]
  },
  {
   "cell_type": "code",
   "execution_count": null,
   "id": "562358b1",
   "metadata": {},
   "outputs": [],
   "source": [
    "one_row.find_all('td')[1].get_text() # for artist name, corresponding to the second \"column\""
   ]
  },
  {
   "cell_type": "markdown",
   "id": "7f9ddfcd",
   "metadata": {},
   "source": [
    "\n",
    "We can now put everything together in one script."
   ]
  },
  {
   "cell_type": "code",
   "execution_count": null,
   "id": "d6075b72",
   "metadata": {},
   "outputs": [],
   "source": [
    "url = 'https://music-to-scrape.org/user?username=StarCoder49&week=6'\n",
    "\n",
    "header = {'User-agent': 'Mozilla/5.0'}\n",
    "res = requests.get(url, headers = header)\n",
    "res.encoding = res.apparent_encoding\n",
    "soup = BeautifulSoup(res.text)\n",
    "\n",
    "table = soup.find('table')\n",
    "\n",
    "rows = table.find_all('tr')\n",
    "\n",
    "for row in rows:\n",
    "    data = row.find_all('td')\n",
    "    \n",
    "    if len(data)>0:\n",
    "        song_name=data[0].get_text()\n",
    "        artist_name=data[1].get_text()\n",
    "        \n",
    "        print(f'Song \"{song_name}\" by \"{artist_name}\"')"
   ]
  },
  {
   "cell_type": "markdown",
   "id": "051bc6ed",
   "metadata": {},
   "source": [
    "### Exercise 4\n",
    "\n",
    "1. Rather than printing the data to the screen, store it in a list of dictionaries, containing the following data points:\n",
    "    - song\n",
    "    - artist\n",
    "    - date\n",
    "    - username\n",
    "    - and time of data extraction.\n",
    "2. Wrap your code in a function, that returns the dictionary from 1)."
   ]
  },
  {
   "cell_type": "markdown",
   "id": "59439506",
   "metadata": {},
   "source": [
    "### ✅ Solution - Exercise 4"
   ]
  },
  {
   "cell_type": "markdown",
   "id": "49c54c6e-b1f2-4e4d-bd74-3f4152c6a94f",
   "metadata": {},
   "source": [
    "Question 4.1"
   ]
  },
  {
   "cell_type": "code",
   "execution_count": null,
   "id": "ac9c6cce",
   "metadata": {},
   "outputs": [],
   "source": [
    "import time\n",
    "from bs4 import BeautifulSoup\n",
    "import requests\n",
    "\n",
    "url = 'https://music-to-scrape.org/user?username=StarCoder49&week=36'\n",
    "\n",
    "header = {'User-agent': 'Mozilla/5.0'}\n",
    "res = requests.get(url, headers = header)\n",
    "res.encoding = res.apparent_encoding\n",
    "soup = BeautifulSoup(res.text)\n",
    "\n",
    "table = soup.find('table')\n",
    "\n",
    "rows = table.find_all('tr')\n",
    "\n",
    "json_data=[]\n",
    "\n",
    "for row in rows:\n",
    "    data = row.find_all('td')\n",
    "\n",
    "    if len(data)>0:\n",
    "        song_name=data[0].get_text()\n",
    "        artist_name=data[1].get_text()\n",
    "        date=data[2].get_text()\n",
    "        timestamp=data[3].get_text()\n",
    "        json_data.append({'song_name': song_name,\n",
    "                          'artist_name': artist_name,\n",
    "                          'date': date,\n",
    "                          'time': timestamp,\n",
    "                          'timestamp_of_extraction': int(time.time()),\n",
    "                          'username': url.split('=')[1]})\n",
    "json_data"
   ]
  },
  {
   "cell_type": "markdown",
   "id": "50e8e771-cb79-42b3-bc3f-6e45d3922cc7",
   "metadata": {},
   "source": [
    "Question 4.2"
   ]
  },
  {
   "cell_type": "code",
   "execution_count": null,
   "id": "e89c6fa6",
   "metadata": {},
   "outputs": [],
   "source": [
    "def get_consumption_history(url):\n",
    "    header = {'User-agent': 'Mozilla/5.0'}\n",
    "    res = requests.get(url, headers = header)\n",
    "    res.encoding = res.apparent_encoding\n",
    "    soup = BeautifulSoup(res.text)\n",
    "    \n",
    "    table = soup.find('table')\n",
    "    \n",
    "    rows = table.find_all('tr')\n",
    "    \n",
    "    json_data=[]\n",
    "    for row in rows:\n",
    "        data = row.find_all('td')\n",
    "    \n",
    "        if len(data)>0:\n",
    "            song_name=data[0].get_text()\n",
    "            artist_name=data[1].get_text()\n",
    "            date=data[2].get_text()\n",
    "            timestamp=data[3].get_text()\n",
    "            json_data.append({'song_name': song_name,\n",
    "                              'artist_name': artist_name,\n",
    "                              'date': date,\n",
    "                              'time': timestamp,\n",
    "                              'timestamp_of_extraction': int(time.time()),\n",
    "                              'username': url.split('=')[1]})\n",
    "    return(json_data)"
   ]
  },
  {
   "cell_type": "code",
   "execution_count": null,
   "id": "f260aa83",
   "metadata": {
    "lines_to_next_cell": 2
   },
   "outputs": [],
   "source": [
    "# try running the function\n",
    "get_consumption_history('https://music-to-scrape.org/user?username=StarCoder49&week=6')"
   ]
  },
  {
   "cell_type": "code",
   "execution_count": null,
   "id": "dc8aec8f",
   "metadata": {},
   "outputs": [],
   "source": [
    "# Check whether it also works for different weeks\n",
    "get_consumption_history('https://music-to-scrape.org/user?username=StarCoder49&week=4')"
   ]
  },
  {
   "cell_type": "markdown",
   "id": "ae1f3913",
   "metadata": {},
   "source": [
    "## 3.2. Loop through all weeks for each user\n"
   ]
  },
  {
   "cell_type": "markdown",
   "id": "b549eded",
   "metadata": {},
   "source": [
    "Alright - what have we achieve so far?\n",
    "\n",
    "- We've built a way to extract user names from the homepage of music-to-scrape.org (\"seeds\").\n",
    "- We just managed to extract a user's consumption history from a table displayed on the user's profile page.\n",
    "\n",
    "What's missing, though, is __ALL of a user's consumption data__, i.e., from __ALL possible weeks__.\n",
    "\n",
    "For this, we're making use of the \"previous page\" button.\n",
    "\n",
    "<img src=\"https://raw.githubusercontent.com/hannesdatta/course-odcm/master/content/docs/modules/week3/webscraping101/images/mits-previous-button.png\" align=\"left\" width=30%/>"
   ]
  },
  {
   "cell_type": "markdown",
   "id": "b05ed977",
   "metadata": {},
   "source": [
    "__Let's try it out__\n",
    "\n",
    "Open the user's profile page at https://music-to-scrape.org/user?username=StarCoder49. __Click on the previous button__ a few times, and observe how the URL in your browser bar is changing. "
   ]
  },
  {
   "cell_type": "markdown",
   "id": "61e78ae0",
   "metadata": {},
   "source": [
    "For example:\n",
    "\n",
    "- `https://music-to-scrape.org/user?username=StarCoder49`\n",
    "- `https://music-to-scrape.org/user?username=StarCoder49&week=37`\n",
    "- `https://music-to-scrape.org/user?username=StarCoder49&week=36`\n",
    "- `https://music-to-scrape.org/user?username=StarCoder49&week=35`\n",
    "- ...\n",
    "\n",
    "Can you guess the next one...?\n",
    "\n",
    "A general solution is to look up whether there is a `previous` button on the page (see HTML code below). We can then either \"grab\" the URL and visit it, or - instead - \"click\" on the button.\n"
   ]
  },
  {
   "cell_type": "markdown",
   "id": "c972a6ad",
   "metadata": {},
   "source": [
    "<img src=\"https://raw.githubusercontent.com/hannesdatta/course-odcm/master/content/docs/modules/week3/webscraping101/images/mts-previous-page.png\" align=\"left\" width=60% style=\"border: 1px solid black\" />"
   ]
  },
  {
   "cell_type": "markdown",
   "id": "5cca0b33",
   "metadata": {},
   "source": [
    "So, let's write a snippet that \"captures\" the link of the previous page button! We always proceed in small steps."
   ]
  },
  {
   "cell_type": "code",
   "execution_count": null,
   "id": "7758ec6f",
   "metadata": {},
   "outputs": [],
   "source": [
    "# Step 1: Load the website's source code and convert to BeautifulSoup object\n",
    "url = 'https://music-to-scrape.org/user?username=StarCoder49'\n",
    "\n",
    "header = {'User-agent': 'Mozilla/5.0'}\n",
    "res = requests.get(url, headers = header)\n",
    "res.encoding = res.apparent_encoding\n",
    "soup = BeautifulSoup(res.text)"
   ]
  },
  {
   "cell_type": "code",
   "execution_count": null,
   "id": "9168ed2f",
   "metadata": {},
   "outputs": [],
   "source": [
    "# Step 2: Trying to locate the previous button, using a combination of class names and attribute-value pairs.\n",
    "soup.find(class_='page-link', attrs={'type':'previous_page'})"
   ]
  },
  {
   "cell_type": "code",
   "execution_count": null,
   "id": "47e21e9d",
   "metadata": {},
   "outputs": [],
   "source": [
    "# Step 3: Trying to extract the `href` attribute\n",
    "soup.find(class_='page-link', attrs={'type':'previous_page'}).attrs['href']"
   ]
  },
  {
   "cell_type": "code",
   "execution_count": null,
   "id": "fd5c3b17",
   "metadata": {},
   "outputs": [],
   "source": [
    "# Step 4: Storing \"previous page\" link\n",
    "previous_page_link = soup.find(class_='page-link', attrs={'type':'previous_page'}).attrs['href']\n",
    "previous_page_link # print it"
   ]
  },
  {
   "cell_type": "markdown",
   "id": "7ca0f3e9",
   "metadata": {},
   "source": [
    "At each iteration, we can observe how we're getting closer to the information we need.\n",
    "\n",
    "Now, we only need to combine the base URL (`https://music-to-scrape.org/`) with the page number."
   ]
  },
  {
   "cell_type": "code",
   "execution_count": null,
   "id": "b38047cd",
   "metadata": {},
   "outputs": [],
   "source": [
    "previous_page_link = soup.find(class_='page-link', attrs={'type':'previous_page'}).attrs['href']\n",
    "f'https://music-to-scrape.org/{previous_page_link}'"
   ]
  },
  {
   "cell_type": "markdown",
   "id": "876672c1",
   "metadata": {},
   "source": [
    "### Exercise 5\n",
    "\n",
    "__Setup__\n",
    "\n",
    "Please first load the snippet below, which has wrapped the \"previous page\" capturing in a function. Observe the use of `try` and `except`, which accounts for the last page NOT having a next page button."
   ]
  },
  {
   "cell_type": "code",
   "execution_count": null,
   "id": "373bad16",
   "metadata": {},
   "outputs": [],
   "source": [
    "def previous_page(soup):\n",
    "    try:\n",
    "        previous_page_link = soup.find(class_='page-link', attrs={'type':'previous_page'}).attrs['href']\n",
    "        return(f'https://music-to-scrape.org/{previous_page_link}')\n",
    "    except:\n",
    "        return('no previous page')"
   ]
  },
  {
   "cell_type": "markdown",
   "id": "04c90c14",
   "metadata": {},
   "source": [
    "Let's try out this function on the source code of the website."
   ]
  },
  {
   "cell_type": "code",
   "execution_count": null,
   "id": "5f2977be",
   "metadata": {},
   "outputs": [],
   "source": [
    "soup = BeautifulSoup(requests.get('https://music-to-scrape.org/user?username=StarCoder49').text)\n",
    "previous_page(soup)"
   ]
  },
  {
   "cell_type": "markdown",
   "id": "c30e438e",
   "metadata": {},
   "source": [
    "See, it worked! Now, proceed with the exercises.\n",
    "\n",
    "__Questions__"
   ]
  },
  {
   "cell_type": "markdown",
   "id": "a38d4786",
   "metadata": {},
   "source": [
    "\n",
    "1. Make a web requests to 'https://music-to-scrape.org/user?username=StarCoder49&week=36', and pass on the (souped) object to the `previous_page()` function and observe the output. Then, use 'https://music-to-scrape.org/user?username=StarCoder49&week=0'. Is that what you expected? \n",
    "\n",
    "2. Write a while loop that continuously visits all pages for the user `StarCoder49`, by extracting previous page URLs from each page and continuing the data collection until there is no previous page to fetch. Start with week 10 to minimize server load."
   ]
  },
  {
   "cell_type": "code",
   "execution_count": null,
   "id": "f919bc02",
   "metadata": {},
   "outputs": [],
   "source": [
    "# write your code here"
   ]
  },
  {
   "cell_type": "markdown",
   "id": "459564c9",
   "metadata": {},
   "source": [
    "### ✅ Solution - Exercise 5\n",
    "\n",
    "Question 5.1"
   ]
  },
  {
   "cell_type": "code",
   "execution_count": null,
   "id": "7130fe83",
   "metadata": {
    "lines_to_next_cell": 2
   },
   "outputs": [],
   "source": [
    "soup = BeautifulSoup(requests.get('https://music-to-scrape.org/user?username=StarCoder49&week=6').text)\n",
    "previous_page(soup)"
   ]
  },
  {
   "cell_type": "code",
   "execution_count": null,
   "id": "42cabb25",
   "metadata": {},
   "outputs": [],
   "source": [
    "soup = BeautifulSoup(requests.get('https://music-to-scrape.org/user?username=StarCoder49&week=0').text)\n",
    "previous_page(soup)\n",
    "# returns \"no previous page\""
   ]
  },
  {
   "cell_type": "markdown",
   "id": "8e5b98d7-9575-4496-ac28-3b0c00341adf",
   "metadata": {},
   "source": [
    "Question 5.2"
   ]
  },
  {
   "cell_type": "code",
   "execution_count": null,
   "id": "3e9ff24c",
   "metadata": {
    "lines_to_next_cell": 2
   },
   "outputs": [],
   "source": [
    "# Question 2\n",
    "urls = []\n",
    "\n",
    "# define first URL to start from\n",
    "url = 'https://music-to-scrape.org/user?username=StarCoder49&week=6'\n",
    "\n",
    "while True:\n",
    "    print(f'Opening {url} and checking for next page...')\n",
    "    soup = BeautifulSoup(requests.get(url).text)\n",
    "    previous_url = previous_page(soup)\n",
    "    if 'no previous page' in previous_url: break\n",
    "    url = previous_url"
   ]
  },
  {
   "cell_type": "markdown",
   "id": "00259aa4",
   "metadata": {},
   "source": [
    "------------\n",
    "So... seems like we're almost there!\n",
    "\n",
    "The only thing that's missing is to actually also extract the song consumption data from each of the user profile pages.\n",
    "\n",
    "We turn towards this issue next."
   ]
  },
  {
   "cell_type": "markdown",
   "id": "7b841f30",
   "metadata": {},
   "source": [
    "## 3.3 Improving Extraction Design  \n",
    "\n",
    "### 3.3.1 Timers  \n",
    "\n",
    "Sending too many requests at once can overload a server and get your IP blocked. Pausing between requests is essential to avoid this. We achieve this using the `time.sleep` function from the `time` package.\n",
    "\n",
    "__Try it out__  \n",
    "\n",
    "In Python, use the `time` module to pause execution. For example, after `time.sleep(2)`, the print statement runs only after a 2-second delay:  "
   ]
  },
  {
   "cell_type": "code",
   "execution_count": null,
   "id": "3049164f",
   "metadata": {},
   "outputs": [],
   "source": [
    "# run this cell again to see the timer in action yourself!\n",
    "import time\n",
    "pause = 2\n",
    "time.sleep(pause)\n",
    "print(f\"I'll be printed to the console after {pause} seconds!\")"
   ]
  },
  {
   "cell_type": "markdown",
   "id": "e3cf9dce",
   "metadata": {},
   "source": [
    "### Exercise 6\n",
    "\n",
    "Modify the code above to sleep for 2 minutes. Go grab a coffee in-between. Did it take you longer than 2 minutes?\n",
    "\n",
    "(if you want to abort the running code, just select the cell and push the \"stop\" button!)"
   ]
  },
  {
   "cell_type": "code",
   "execution_count": null,
   "id": "07ce0be0",
   "metadata": {},
   "outputs": [],
   "source": [
    "# your answer goes here!"
   ]
  },
  {
   "cell_type": "markdown",
   "id": "3c70a65d",
   "metadata": {},
   "source": [
    "### ✅ Solution - Exercise 6\n"
   ]
  },
  {
   "cell_type": "code",
   "execution_count": null,
   "id": "76378e8c",
   "metadata": {},
   "outputs": [],
   "source": [
    "time.sleep(2*60)\n",
    "print(\"Done!\")"
   ]
  },
  {
   "cell_type": "markdown",
   "id": "76171183",
   "metadata": {},
   "source": [
    "### 3.3.2 Modularization  \n",
    "\n",
    "In scraping, many tasks must be repeated—like extracting all book links each time we open a new user page on *music-to-scrape.org*.  \n",
    "\n",
    "To make this easier, we’ll modularize our code into functions. This improves readability, reusability, and allows us to call the same code whenever needed. Need a refresher? Please revisit the Python Bootcamp!\n",
    "\n",
    "**Try it out**  \n",
    "\n",
    "Let’s complete our scraper by combining everything we’ve learned.  \n",
    "\n",
    "First, run the cell below to load the `get_users` function -- it extracts all currently visible user names from music-to-scrape.org's homepage. Then, continue with the exercises.  "
   ]
  },
  {
   "cell_type": "code",
   "execution_count": null,
   "id": "d9ffaca6",
   "metadata": {},
   "outputs": [],
   "source": [
    "import requests\n",
    "from bs4 import BeautifulSoup\n",
    "\n",
    "def get_users():\n",
    "    url = 'https://music-to-scrape.org/'\n",
    "  \n",
    "    res = requests.get(url)\n",
    "    res.encoding = res.apparent_encoding\n",
    "    \n",
    "    soup = BeautifulSoup(res.text)\n",
    "    \n",
    "    relevant_section = soup.find('section',attrs={'name':'recent_users'})\n",
    "\n",
    "    links = []\n",
    "    for link in relevant_section.find_all(\"a\"):\n",
    "        if 'href' in link.attrs: \n",
    "            extracted_link = link.attrs['href']\n",
    "            links.append(f'https://music-to-scrape.org/{extracted_link}')\n",
    "    return(links) # to return all links\n",
    "\n",
    "get_users()"
   ]
  },
  {
   "cell_type": "markdown",
   "id": "162f3c26",
   "metadata": {},
   "source": [
    "### Exercise 7\n",
    "\n",
    "Execute the function `get_users()` for a few minutes to collect a list of usernames. Store the user names in a JSON file (new-line separated), along with the timestamp of data retrieval `int(time.time())`.\n"
   ]
  },
  {
   "cell_type": "code",
   "execution_count": null,
   "id": "7d43b054",
   "metadata": {},
   "outputs": [],
   "source": [
    "# your answer here"
   ]
  },
  {
   "cell_type": "markdown",
   "id": "58d6e7d7",
   "metadata": {},
   "source": [
    "### ✅ Solution - Exercise 7\n"
   ]
  },
  {
   "cell_type": "code",
   "execution_count": null,
   "id": "879e88d1",
   "metadata": {},
   "outputs": [],
   "source": [
    "import time\n",
    "import json\n",
    "\n",
    "duration = 15 # for testing, just 15 seconds\n",
    "\n",
    "# Calculate the end time\n",
    "end_time = time.time() + duration\n",
    "\n",
    "f = open('seeds.json','w') # start a new file with seeds, so, use `w` (write new file) instead of `a` (append to existing file)\n",
    "\n",
    "# Run the loop until the current time reaches the end time\n",
    "while time.time() < end_time:\n",
    "    print(f'Scraping user names...')\n",
    "    for user in get_users():\n",
    "        new_user = {'url': user,\n",
    "                    'timestamp': int(time.time())}\n",
    "        f.write(json.dumps(new_user)+'\\n')\n",
    "    time.sleep(2)  # Sleep for a few seconds between each execution\n",
    "f.close()\n",
    "print('Done.')"
   ]
  },
  {
   "cell_type": "code",
   "execution_count": null,
   "id": "baf59f0a",
   "metadata": {},
   "outputs": [],
   "source": [
    "# verify whether you can open the data\n",
    "\n",
    "import json\n",
    "f = open('seeds.json','r',encoding = 'utf-8')\n",
    "data = f.readlines()\n",
    "for item in data:\n",
    "    print(json.loads(item))\n",
    "f.close()"
   ]
  },
  {
   "cell_type": "markdown",
   "id": "983f9409",
   "metadata": {},
   "source": [
    "### Exercise 8\n",
    "\n",
    "\n",
    "Now, let's write some code that loads `seeds.json`, and visit each user's __first profile page__ to extract consumption data. Remember to build in a little timer (e.g., waiting for 2 seconds or so). The prototype/starting code below stops automatically after 5 iterations to minimize server load. Try removing the prototyping condition using the comment character `#` when you think you're done!\n"
   ]
  },
  {
   "cell_type": "code",
   "execution_count": null,
   "id": "511680b2",
   "metadata": {},
   "outputs": [],
   "source": [
    "# start from the code below\n",
    "\n",
    "import time # we need the time package for implementing a bit of waiting time\n",
    "import json\n",
    "\n",
    "content = open('seeds.json', 'r').readlines() # let's read in the seed data\n",
    "\n",
    "counter = 0 # initialize counter to 0\n",
    "\n",
    "# loop through all lines of the JSON file\n",
    "for line in content:\n",
    "    # increment counter and check whether prototyping condition is met\n",
    "    counter = counter + 1\n",
    "    if counter>5: break # deactivate this if you want to loop through the entire file\n",
    "        \n",
    "    # convert loaded data to JSON object/dictionary for querying\n",
    "    obj = json.loads(line)\n",
    "    \n",
    "    # show URL for which product information needs to be captured\n",
    "    print(obj['url'])\n",
    "    \n",
    "    # eventually sleep for a second\n",
    "    time.sleep(2)\n",
    "\n",
    "print('Done!')"
   ]
  },
  {
   "cell_type": "markdown",
   "id": "53464ecb",
   "metadata": {},
   "source": [
    "<div class=\"alert alert-block alert-info\"><b>Tips</b>\n",
    "    <br>\n",
    "    <ul>\n",
    "        <li>\n",
    "            Use the function <code>get_consumption_history(url)</code> from exercise 4 above!\n",
    "        </li>\n",
    " \n",
    "</div>\n"
   ]
  },
  {
   "cell_type": "markdown",
   "id": "6cfecb5e",
   "metadata": {},
   "source": [
    "### ✅ Solution - Exercise 8\n"
   ]
  },
  {
   "cell_type": "code",
   "execution_count": null,
   "id": "5b0c5d6f",
   "metadata": {},
   "outputs": [],
   "source": [
    "# start from the code below\n",
    "import time # we need the time package for implementing a bit of waiting time\n",
    "import json\n",
    "\n",
    "content = open('seeds.json', 'r').readlines() # let's read in the seed data\n",
    "\n",
    "counter = 0 # initialize counter to 0\n",
    "\n",
    "# loop through all lines of the JSON file\n",
    "for line in content:\n",
    "    # increment counter and check whether prototyping condition is met\n",
    "    counter = counter + 1\n",
    "    if counter>5: break # deactivate this if you want to loop through the entire file\n",
    "        \n",
    "    # convert loaded data to JSON object/dictionary for querying\n",
    "    obj = json.loads(line)\n",
    "    \n",
    "    # show URL for which product information needs to be captured\n",
    "    url = obj['url']\n",
    "\n",
    "    print(f'Extracting information for {url}...')\n",
    "    \n",
    "    output_file = open('output_data.json','a')\n",
    "\n",
    "    songs = get_consumption_history(url)\n",
    "\n",
    "    for song in songs:\n",
    "        output_file.write(json.dumps(song))\n",
    "        output_file.write('\\n')\n",
    "\n",
    "    output_file.close()\n",
    "    \n",
    "    time.sleep(2)\n",
    "\n",
    "print('Done!')"
   ]
  },
  {
   "cell_type": "markdown",
   "id": "627a2116",
   "metadata": {},
   "source": [
    "<div class=\"alert alert-block alert-info\"><b>Tip: Understanding the Difference Between <code>'a'</code> and <code>'w'</code> When Writing Files in Python</b>\n",
    "    <br>\n",
    "    \n",
    "- When working with files in Python, it's essential to know the difference between <code>'a'</code> and <code>'w'</code>  when opening them.\n",
    "- <code>'a'</code> stands for \"append\" mode. When you open a file with <code>'a'</code> , Python will let you add data to the end of the existing file without erasing its contents. This is useful when you want to add new information to a file without losing what's already there. It's like adding new lines to the end of an ongoing document.\n",
    "- <code>'w'</code>  stands for \"write\" mode. When you open a file with <code>'w'</code> , Python will create a new file or overwrite an existing one. This means that if the file already has data in it, using <code>'w'</code>  will erase all the existing content and start fresh. It's like creating a new document or wiping out the old one.\n",
    "- Remember, when scraping data or working with files, it's generally safer to use <code>'a'</code>. This way, you won't accidentally delete valuable data. Using <code>'w'</code>  should be done with caution, and only when you intentionally want to start with a clean slate or create a new file altogether.\n",
    "</div>"
   ]
  },
  {
   "cell_type": "markdown",
   "id": "f5219c4d",
   "metadata": {},
   "source": [
    "Finally, we can re-open the extracted data in Python to see whether what we retrieved seems complete.\n",
    "\n",
    "Verify you've the `pandas` package installed by running the next cell."
   ]
  },
  {
   "cell_type": "code",
   "execution_count": null,
   "id": "6110ed22",
   "metadata": {},
   "outputs": [],
   "source": [
    "!pip install pandas"
   ]
  },
  {
   "cell_type": "markdown",
   "id": "6de47e54",
   "metadata": {},
   "source": [
    "Now, we can load the data."
   ]
  },
  {
   "cell_type": "code",
   "execution_count": null,
   "id": "90063331",
   "metadata": {},
   "outputs": [],
   "source": [
    "# inspect data in pandas\n",
    "import pandas as pd\n",
    "pd.read_json('output_data.json', lines=True)"
   ]
  },
  {
   "cell_type": "markdown",
   "id": "4cc20314",
   "metadata": {},
   "source": [
    "# 4. Wrap-up\n",
    "\n",
    "Congratulations - You’ve built your first **complete static web scraper**! 🎉  \n",
    "\n",
    "Starting from a single page, you learned how to:\n",
    "\n",
    "- Inspect a web page and figure out where the data lives  \n",
    "- Extract text and attributes using `BeautifulSoup`  \n",
    "- Loop through multiple pages automatically  \n",
    "- Add polite pauses to avoid overloading websites  \n",
    "- Save your results as JSON and convert to CSV for later use  \n",
    "\n",
    "These are the same core steps behind almost every real-world scraping project,\n",
    "from small personal analyses to larger automated data collections.\n",
    "\n",
    "In the next tutorial, **Web Scraping Advanced**, we’ll take the next step:\n",
    "working with **dynamic websites** — those that only load their content\n",
    "after scrolling, clicking, or interacting with the page."
   ]
  }
 ],
 "metadata": {
  "jupytext": {
   "cell_metadata_filter": "-all",
   "formats": "ipynb,py:percent",
   "main_language": "python"
  },
  "kernelspec": {
   "display_name": "Python (Regular)",
   "language": "python",
   "name": "regularpython"
  },
  "language_info": {
   "codemirror_mode": {
    "name": "ipython",
    "version": 3
   },
   "file_extension": ".py",
   "mimetype": "text/x-python",
   "name": "python",
   "nbconvert_exporter": "python",
   "pygments_lexer": "ipython3",
   "version": "3.12.0"
  }
 },
 "nbformat": 4,
 "nbformat_minor": 5
}
